{
 "cells": [
  {
   "cell_type": "markdown",
   "metadata": {},
   "source": [
    "# 1. Install Playwright CLI\n",
    "\n",
    "You can install [Playwright](https://playwright.dev/) as a dotnet global tool or as npm global package. In this example we will install Playwright as a global tool."
   ]
  },
  {
   "cell_type": "code",
   "execution_count": null,
   "metadata": {
    "dotnet_interactive": {
     "language": "csharp"
    }
   },
   "outputs": [],
   "source": [
    "#!powershell\n",
    "dotnet tool install --global Microsoft.Playwright.CLI"
   ]
  },
  {
   "cell_type": "markdown",
   "metadata": {},
   "source": [
    "# 2. Save session state\n",
    "\n",
    "Any application that requires login, still saves the state (logged in or not) using cookies. If you start a new session, with the previously captured session state, the application consideres you as having \"logged in\", even though you did not enter your credentials.\n",
    "\n",
    "The code block below creates an empty project, installs the browsers (Chromium, Firefox and Webkit) and opens Chromium in \"automation\" mode. In this new browser window, navigate to the Power Apps application, login with you credentials, and close the window after you have logged in.\n",
    "\n"
   ]
  },
  {
   "cell_type": "markdown",
   "metadata": {},
   "source": [
    "Run this code below only if you need to re-record your Power Apps login to create `auth.json`"
   ]
  },
  {
   "cell_type": "code",
   "execution_count": null,
   "metadata": {
    "dotnet_interactive": {
     "language": "csharp"
    }
   },
   "outputs": [],
   "source": [
    "#!powershell\n",
    "# Create project\n",
    "dotnet new console -n PlaywrightDemo\n",
    "cd PlaywrightDemo\n",
    "\n",
    "# Install dependencies, build project and download necessary browsers.\n",
    "dotnet add package Microsoft.Playwright\n",
    "dotnet build\n",
    "playwright install\n",
    "\n",
    "#start recording the browser\n",
    "playwright codegen --save-storage=auth.json\n",
    "\n",
    "# Move auth.json with cookies one level up\n",
    "Move-Item .\\auth.json ../. -Force\n",
    "cd..\n",
    "Remove-Item ./PlaywrightDemo -Force -Recurse"
   ]
  },
  {
   "cell_type": "markdown",
   "metadata": {},
   "source": [
    "\n",
    "After running the commands the session state will be captured in a file called `auth.json`. There are only two cookies needed for Power Apps to consider you as \"logged in\". They are\n",
    "\n",
    "1. _CrmOwinAuth_\n",
    "2. _ESTSAUTHPERSISTENT_\n",
    "\n",
    "You can remove all the other information except these two. Below is a sample for `auth.json`. If you want to leave this file as it is, it is OK was well.\n",
    "\n",
    "```json\n",
    "{\n",
    "  \"cookies\": [\n",
    "    {\n",
    "      \"sameSite\": \"None\",\n",
    "      \"name\": \"CrmOwinAuth\",\n",
    "      \"value\": \"REMOVED\",\n",
    "      \"domain\": \".crm.dynamics.com\",\n",
    "      \"path\": \"/\",\n",
    "      \"expires\": 1953359538.945023,\n",
    "      \"httpOnly\": true,\n",
    "      \"secure\": true\n",
    "    },\n",
    "    {\n",
    "      \"sameSite\": \"None\",\n",
    "      \"name\": \"ESTSAUTHPERSISTENT\",\n",
    "      \"value\": \"REMOVED\",\n",
    "      \"path\": \"/\",\n",
    "      \"expires\": 1645602747.992615,\n",
    "      \"httpOnly\": true,\n",
    "      \"secure\": true\n",
    "    }\n",
    "  ]\n",
    "}\n",
    "```"
   ]
  },
  {
   "cell_type": "markdown",
   "metadata": {},
   "source": [
    "Now we need to install the Playwright package on the Notebook, so that we can run some automation from this Notebook."
   ]
  },
  {
   "cell_type": "code",
   "execution_count": null,
   "metadata": {
    "dotnet_interactive": {
     "language": "csharp"
    }
   },
   "outputs": [],
   "source": [
    "#r \"nuget:Microsoft.Playwright\""
   ]
  },
  {
   "cell_type": "markdown",
   "metadata": {},
   "source": [
    "# 3. Configuring screenshots\n",
    "\n",
    "[screenshots.config.json](screenshots.config.json) is where you specify the title of the screeshot, file name of the screenshot and URL to navigate to. Below is an example config.\n",
    "\n",
    "```json\n",
    "[\n",
    "    {\n",
    "        \"title\": \"Home\",\n",
    "        \"fileName\": \"Home\",\n",
    "        \"url\": \"https://make.powerapps.com\",\n",
    "        \"description\": \"This is the Maker portal.\"\n",
    "    },\n",
    "    {\n",
    "        \"title\": \"Customer Service App\",\n",
    "        \"fileName\": \"Model Driven App\",\n",
    "        \"url\": \"https://org.crm6.dynamics.com/main.aspx?appid=fc4884b2-6119-e811-a94f-000d3ae060f6\",\n",
    "        \"description\": \"This is the customer service app used by all agents.\"\n",
    "    }\n",
    "]\n",
    "```"
   ]
  },
  {
   "cell_type": "markdown",
   "metadata": {},
   "source": [
    "The snippet below reads code from the config file."
   ]
  },
  {
   "cell_type": "code",
   "execution_count": null,
   "metadata": {
    "dotnet_interactive": {
     "language": "csharp"
    }
   },
   "outputs": [],
   "source": [
    "using Microsoft.Playwright;\n",
    "using System.Threading.Tasks;\n",
    "using System.IO;\n",
    "using System.Text.Json;\n",
    "using static Microsoft.DotNet.Interactive.Formatting.PocketViewTags;\n",
    "\n",
    "record Config(string fileName, string url, string title, string description);\n",
    "var config = JsonSerializer.Deserialize<Config[]>(File.ReadAllText(\"screenshots.config.json\"));"
   ]
  },
  {
   "cell_type": "markdown",
   "metadata": {},
   "source": [
    "# 4. Running Playwright\n",
    "\n",
    "Since we now have the `auth.json` file with the persisted cookies we can start a new browser session with the pre-save cookie information. It will navigate us straight to the URLs mentioned in the config file, with no login screen at all. The cookies are valid for approximately 2 weeks. So, you might get error after the cookie expires. If that is the case, you need to run [Save Session State](#2-save-session-state) step again, to create a new `auth.json`. `auth.json` contains sensitive information, so it is ignored on `.gitignore`, so <ins>do not</ins> commit this to source control."
   ]
  },
  {
   "cell_type": "code",
   "execution_count": null,
   "metadata": {
    "dotnet_interactive": {
     "language": "csharp"
    }
   },
   "outputs": [],
   "source": [
    "using (var playwright = await Playwright.CreateAsync())\n",
    "{\n",
    "        //Use this if you are behind a proxy\n",
    "        // var browser = await playwright.Firefox.LaunchAsync(new BrowserTypeLaunchOptions\n",
    "        // {\n",
    "        //     Headless = false,\n",
    "        //     Proxy = new Proxy{Server=\"\"}\n",
    "        // });\n",
    "        var browser = await playwright.Chromium.LaunchAsync(new BrowserTypeLaunchOptions{Timeout=60000});        \n",
    "        var context = await browser.NewContextAsync(new BrowserNewContextOptions { \n",
    "            StorageStatePath = \"../auth.json\",\n",
    "            RecordVideoDir = \"../videos\",\n",
    "            RecordVideoSize = new RecordVideoSize() { Width = 1920, Height = 1080 }\n",
    "        });\n",
    "        var page = await context.NewPageAsync();\n",
    "        await page.SetViewportSizeAsync(1920, 1080);\n",
    "        foreach (var c in config)\n",
    "        {\n",
    "            await page.GotoAsync(c.url, new PageGotoOptions { WaitUntil = WaitUntilState.NetworkIdle });\n",
    "            await page.ScreenshotAsync(new PageScreenshotOptions { Path = $\"../screenshots/{c.fileName}.png\" });            \n",
    "        }\n",
    "        await context.CloseAsync();\n",
    "}"
   ]
  },
  {
   "cell_type": "markdown",
   "metadata": {},
   "source": [
    "# 5. Running JavaScript in the context of a model-driven app\n",
    "\n",
    "You can use `EvaluateAsync` to execute arbitary JavaScript in the context of a page. The result from JavaScript can be utilised in C#. When you run the script below, you'll get a prompt to enter the model-driven app URL e.g. _https://env.crm.dynamics.com?appid=f55f77d7-e05d-e911-a866-000d3ae0eb8e_. Fill the URL in the prompt and press `Enter`."
   ]
  },
  {
   "cell_type": "code",
   "execution_count": null,
   "metadata": {
    "dotnet_interactive": {
     "language": "csharp"
    }
   },
   "outputs": [],
   "source": [
    "var url = await GetInputAsync(\"Enter model driven app URL\");\n",
    "//var url = \"https://env.crm.dynamics.com/main.aspx?appid=f55f77d7-e05d-e911-a866-000d3ae0eb8e\";\n",
    "\n",
    "using (var playwright = await Playwright.CreateAsync())\n",
    "{\n",
    "        //Use this if you are behind a proxy\n",
    "        // var browser = await playwright.Firefox.LaunchAsync(new BrowserTypeLaunchOptions\n",
    "        // {\n",
    "        //     Headless = false,\n",
    "        //     Proxy = new Proxy{Server=\"\"}\n",
    "        // });\n",
    "        var browser = await playwright.Chromium.LaunchAsync(new BrowserTypeLaunchOptions{Timeout=60000});        \n",
    "        var context = await browser.NewContextAsync(new BrowserNewContextOptions { \n",
    "            StorageStatePath = \"../auth.json\"\n",
    "        });\n",
    "        var page = await context.NewPageAsync();\n",
    "        await page.SetViewportSizeAsync(1920, 1080);\n",
    "        await page.GotoAsync(url);\n",
    "        await page.WaitForFunctionAsync(\"window.Xrm !== undefined\");\n",
    "\n",
    "        var appName = await page.EvaluateAsync(\"Xrm.Utility.getGlobalContext().getCurrentAppName()\");\n",
    "\n",
    "        var solutionName = \"Default Solution\";\n",
    "        var webApiScript = @\"async(solutionName) => {\n",
    "            var records = await Xrm.WebApi.online.retrieveMultipleRecords('solution', `?$select=friendlyname&$filter=isvisible eq true and friendlyname eq '${solutionName}'`);\n",
    "            return records;\n",
    "        }\";\n",
    "        var solutions = await page.EvaluateAsync(webApiScript, solutionName);        \n",
    "        var result = solutions.Value.GetProperty(\"entities\").EnumerateArray();\n",
    "        \n",
    "        display(div(h3(\"Result\"),div(ol(li($\"The current app name: \", i(appName.Value.GetString())), li($\"Solution Guid: \", i(result.First().GetProperty(\"solutionid\").GetString()))))));\n",
    "\n",
    "        await context.CloseAsync();\n",
    "}"
   ]
  },
  {
   "cell_type": "markdown",
   "metadata": {},
   "source": [
    "# 6. Generate screenshot documentation\n",
    "\n",
    "We can dynamically add the screenshot document and text using the Notebook itself by running the snippet below. The whole interaction is also recorded and a recording can be found in the [videos](./videos) folder."
   ]
  },
  {
   "cell_type": "code",
   "execution_count": null,
   "metadata": {
    "dotnet_interactive": {
     "language": "csharp"
    }
   },
   "outputs": [],
   "source": [
    "using static Microsoft.DotNet.Interactive.Formatting.PocketViewTags;\n",
    "\n",
    "var screenshot = div(\n",
    "    h1(summary($\"Screenshots as of {DateTime.Now.ToString()}\")),\n",
    "    details(\n",
    "        config.Select(c => \n",
    "            div(\n",
    "                h2(c.title),\n",
    "                div(c.description),\n",
    "                br,\n",
    "                img[src:$\"../screenshots/{c.fileName}.png\",width:960, height: 540]\n",
    "            )\n",
    "        )\n",
    "    )\n",
    ");\n",
    "display(screenshot);\n",
    "\n",
    "//START: Remove this if you don't want the screenshot HTML to be saved into a file\n",
    "if(!Directory.Exists(\"../documentation\")) Directory.CreateDirectory(\"../documentation\");\n",
    "\n",
    "File.WriteAllText($\"../documentation/{DateTime.Now.ToString(\"yyyy_MM_dd_HH_mm\")}.html\", @$\"<!DOCTYPE html>\n",
    "<html lang=\"\"en\"\">\n",
    "<head>\n",
    "    <meta charset=\"\"UTF-8\"\">\n",
    "    <meta http-equiv=\"\"X-UA-Compatible\"\" content=\"\"IE=edge\"\">\n",
    "    <meta name=\"\"viewport\"\" content=\"\"width=device-width, initial-scale=1.0\"\">\n",
    "</head>\n",
    "<body>\n",
    "    {screenshot}\n",
    "</body>\n",
    "</html>\");\n",
    "//END"
   ]
  },
  {
   "cell_type": "markdown",
   "metadata": {},
   "source": [
    "# 7. More about Playwright\n",
    "\n",
    "1. [Playwright documentation](https://playwright.dev/dotnet/docs/api/class-playwright)\n",
    "2. [Playwright YouTube](https://www.youtube.com/channel/UC46Zj8pDH5tDosqm1gd7WTg)"
   ]
  }
 ],
 "metadata": {
  "kernelspec": {
   "display_name": ".NET (C#)",
   "language": "C#",
   "name": ".net-csharp"
  },
  "language_info": {
   "name": "C#"
  }
 },
 "nbformat": 4,
 "nbformat_minor": 2
}
